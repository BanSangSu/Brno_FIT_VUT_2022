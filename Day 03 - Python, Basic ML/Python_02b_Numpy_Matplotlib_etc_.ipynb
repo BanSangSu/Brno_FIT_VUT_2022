{
  "nbformat": 4,
  "nbformat_minor": 0,
  "metadata": {
    "colab": {
      "name": "Python - 02b - Numpy, Matplotlib, etc.",
      "provenance": [],
      "collapsed_sections": [],
      "toc_visible": true
    },
    "kernelspec": {
      "name": "python3",
      "display_name": "Python 3"
    }
  },
  "cells": [
    {
      "cell_type": "markdown",
      "metadata": {
        "id": "PKJhK3c2wZu1"
      },
      "source": [
        "# Introduction\n",
        "In this excercise, you will get acquainted with:\n",
        "\n",
        "1. Numpy\n",
        "2. SciPy\n",
        "3. Matplotlib\n",
        "\n",
        "\n",
        "###About limits of Google Colab:   \n",
        "\n",
        "The 12-hour limit is for a continuous assignment of VM. It means we can use GPU compute even after the end of 12 hours by connecting to a different VM.\n",
        "\n",
        "### Authors and Lecturers:\n",
        "* [Jakub Špaňhel](mailto:ispanhel@fit.vutbr.cz)\n",
        "* [Martin Šůstek](mailto:isustek@fit.vutbr.cz)\n",
        "\n",
        "---\n",
        "\n",
        "###Source(s):\n",
        "* [Real Python](https://realpython.com/)\n",
        "* [Learn Python](https://www.learnpython.org/en/Welcome)\n",
        "* [Python for Beginners](https://www.pythonforbeginners.com/)\n",
        "* [Towards Data Science](https://towardsdatascience.com/programming/home)\n",
        "* [Digital Ocean](https://www.digitalocean.com/community/tutorial_series/how-to-code-in-python-3)\n",
        "* [Python Docs](https://docs.python.org/3.6/)\n",
        "---\n",
        "* [CS231n Convolutional Neural Networks for Visual Recognition](http://cs231n.github.io/python-numpy-tutorial/#numpy)\n",
        "* [Numpy Docs](https://docs.scipy.org/doc/numpy/)"
      ]
    },
    {
      "cell_type": "markdown",
      "metadata": {
        "id": "9dDuAWN89iCt"
      },
      "source": [
        "# Numpy\n",
        "\n",
        "**Numpy** is the core library for scientific computing in Python. It provides a high-performance multidimensional array object, and tools for working with these arrays. \n",
        "\n",
        "In this excercise, you will get acquainted with:"
      ]
    },
    {
      "cell_type": "markdown",
      "metadata": {
        "id": "-73E2uXlwgoC"
      },
      "source": [
        "##Numpy Arrays\n",
        "Numpy arrays are great alternatives to Python Lists. Some of the key advantages of Numpy arrays are that they are fast, easy to work with, and give users the opportunity to perform calculations across entire arrays.\n",
        "\n",
        "A numpy array is a grid of values, all of the same type, and is indexed by a tuple of non-negative integers. The number of dimensions is the rank of the array; the shape of an array is a tuple of integers giving the size of the array along each dimension.\n",
        "\n",
        "We can initialize numpy arrays from nested Python lists, and access elements using square brackets:"
      ]
    },
    {
      "cell_type": "code",
      "metadata": {
        "id": "fciZ1cyWwnSN"
      },
      "source": [
        "import numpy as np\n",
        "\n",
        "py_list = [1,2,3]\n",
        "print(type(py_list))\n",
        "\n",
        "a = np.array(py_list)     # Create a rank 1 array   //a = np.array([1,2,3])\n",
        "print(type(a))            # Prints \"<class 'numpy.ndarray'>\"\n",
        "print(a.shape)            # Prints \"(3,)\"\n",
        "print(a[0], a[1], a[2])   # Prints \"1 2 3\"\n",
        "a[0] = 5                  # Change an element of the array\n",
        "print(a)                  # Prints \"[5, 2, 3]\"\n",
        "\n",
        "b = np.array([[1,2,3],[4,5,6]])    # Create a rank 2 array\n",
        "print(b.shape)                     # Prints \"(2, 3)\"\n",
        "print(b[0, 0], b[0, 1], b[1, 0])   # Prints \"1 2 4\""
      ],
      "execution_count": null,
      "outputs": []
    },
    {
      "cell_type": "markdown",
      "metadata": {
        "id": "7AUd0brP3J4G"
      },
      "source": [
        "Numpy also provides many functions to create arrays:"
      ]
    },
    {
      "cell_type": "code",
      "metadata": {
        "id": "pRLdtrJq3Lqm"
      },
      "source": [
        "import numpy as np\n",
        "\n",
        "a = np.zeros((2,2))   # Create an array of all zeros\n",
        "print(a)              # Prints \"[[ 0.  0.]\n",
        "                      #          [ 0.  0.]]\"\n",
        "\n",
        "b = np.ones((1,2))    # Create an array of all ones\n",
        "print(b)              # Prints \"[[ 1.  1.]]\"\n",
        "\n",
        "c = np.full((2,2), 7)  # Create a constant array\n",
        "print(c)               # Prints \"[[ 7.  7.]\n",
        "                       #          [ 7.  7.]]\"\n",
        "\n",
        "d = np.eye(2)         # Create a 2x2 identity matrix\n",
        "print(d)              # Prints \"[[ 1.  0.]\n",
        "                      #          [ 0.  1.]]\"\n",
        "\n",
        "e = np.random.random((2,2))  # Create an array filled with random values\n",
        "print(e)                     # Might print \"[[ 0.91940167  0.08143941]\n",
        "                             #               [ 0.68744134  0.87236687]]\""
      ],
      "execution_count": null,
      "outputs": []
    },
    {
      "cell_type": "markdown",
      "metadata": {
        "id": "rViXaope4JC6"
      },
      "source": [
        "##Array Indexing\n",
        "\n",
        "Numpy offers several ways to index into arrays.\n",
        "\n",
        "###Slicing:\n",
        "Similar to Python lists, numpy arrays can be sliced. Since arrays may be multidimensional, you must specify a slice for each dimension of the array:"
      ]
    },
    {
      "cell_type": "code",
      "metadata": {
        "id": "TVqgUFSZ4R3R"
      },
      "source": [
        "import numpy as np\n",
        "\n",
        "# Create the following rank 2 array with shape (3, 4)\n",
        "# [[ 1  2  3  4]\n",
        "#  [ 5  6  7  8]\n",
        "#  [ 9 10 11 12]]\n",
        "a = np.array([[1,2,3,4], [5,6,7,8], [9,10,11,12]])\n",
        "\n",
        "# Use slicing to pull out the subarray consisting of the first 2 rows\n",
        "# and columns 1 and 2; b is the following array of shape (2, 2):\n",
        "# [[2 3]\n",
        "#  [6 7]]\n",
        "b = a[:2, 1:3]\n",
        "\n",
        "# A slice of an array is a view into the same data, so modifying it\n",
        "# will modify the original array.\n",
        "print(a[0, 1])   # Prints \"2\"\n",
        "b[0, 0] = 77     # b[0, 0] is the same piece of data as a[0, 1]\n",
        "print(a[0, 1])   # Prints \"77\""
      ],
      "execution_count": null,
      "outputs": []
    },
    {
      "cell_type": "markdown",
      "metadata": {
        "id": "KOU2go364Tqy"
      },
      "source": [
        "You can also mix integer indexing with slice indexing. However, doing so will yield an array of lower rank than the original array. Note that this is quite different from the way that MATLAB handles array slicing:"
      ]
    },
    {
      "cell_type": "code",
      "metadata": {
        "id": "8EbfCw6m4Vld"
      },
      "source": [
        "import numpy as np\n",
        "\n",
        "# Create the following rank 2 array with shape (3, 4)\n",
        "# [[ 1  2  3  4]\n",
        "#  [ 5  6  7  8]\n",
        "#  [ 9 10 11 12]]\n",
        "a = np.array([[1,2,3,4], [5,6,7,8], [9,10,11,12]])\n",
        "\n",
        "# Two ways of accessing the data in the middle row of the array.\n",
        "# Mixing integer indexing with slices yields an array of lower rank,\n",
        "# while using only slices yields an array of the same rank as the\n",
        "# original array:\n",
        "row_r1 = a[1, :]    # Rank 1 view of the second row of a\n",
        "row_r2 = a[1:2, :]  # Rank 2 view of the second row of a\n",
        "print(row_r1, row_r1.shape)  # Prints \"[5 6 7 8] (4,)\"\n",
        "print(row_r2, row_r2.shape)  # Prints \"[[5 6 7 8]] (1, 4)\"\n",
        "\n",
        "# We can make the same distinction when accessing columns of an array:\n",
        "col_r1 = a[:, 1]\n",
        "col_r2 = a[:, 1:2]\n",
        "print(col_r1, col_r1.shape)  # Prints \"[ 2  6 10] (3,)\"\n",
        "print(col_r2, col_r2.shape)  # Prints \"[[ 2]\n",
        "                             #          [ 6]\n",
        "                             #          [10]] (3, 1)\""
      ],
      "execution_count": null,
      "outputs": []
    },
    {
      "cell_type": "markdown",
      "metadata": {
        "id": "EsTAvlRF4c2p"
      },
      "source": [
        "###Integer array indexing\n",
        "When you index into numpy arrays using slicing, the resulting array view will always be a subarray of the original array. In contrast, integer array indexing allows you to construct arbitrary arrays using the data from another array. Here is an example:"
      ]
    },
    {
      "cell_type": "code",
      "metadata": {
        "id": "u_LgYtdk4gh4"
      },
      "source": [
        "import numpy as np\n",
        "\n",
        "a = np.array([[1,2], [3, 4], [5, 6]])\n",
        "\n",
        "# An example of integer array indexing.\n",
        "# The returned array will have shape (3,) and\n",
        "print(a[[0, 1, 2], [0, 1, 0]])  # Prints \"[1 4 5]\"\n",
        "\n",
        "# The above example of integer array indexing is equivalent to this:\n",
        "print(np.array([a[0, 0], a[1, 1], a[2, 0]]))  # Prints \"[1 4 5]\"\n",
        "\n",
        "# When using integer array indexing, you can reuse the same\n",
        "# element from the source array:\n",
        "print(a[[0, 0], [1, 1]])  # Prints \"[2 2]\"\n",
        "\n",
        "# Equivalent to the previous integer array indexing example\n",
        "print(np.array([a[0, 1], a[0, 1]]))  # Prints \"[2 2]\""
      ],
      "execution_count": null,
      "outputs": []
    },
    {
      "cell_type": "markdown",
      "metadata": {
        "id": "TwwaXFrd4ilm"
      },
      "source": [
        "One useful trick with integer array indexing is selecting or mutating one element from each row of a matrix:"
      ]
    },
    {
      "cell_type": "code",
      "metadata": {
        "id": "lgh99e4e4kHM"
      },
      "source": [
        "import numpy as np\n",
        "\n",
        "# Create a new array from which we will select elements\n",
        "a = np.array([[1,2,3], [4,5,6], [7,8,9], [10, 11, 12]])\n",
        "\n",
        "print(a)  # prints \"array([[ 1,  2,  3],\n",
        "          #                [ 4,  5,  6],\n",
        "          #                [ 7,  8,  9],\n",
        "          #                [10, 11, 12]])\"\n",
        "\n",
        "# Create an array of indices\n",
        "b = np.array([0, 2, 0, 1])\n",
        "\n",
        "# Select one element from each row of a using the indices in b\n",
        "print(a[np.arange(4), b])  # Prints \"[ 1  6  7 11]\"\n",
        "\n",
        "# Mutate one element from each row of a using the indices in b\n",
        "a[np.arange(4), b] += 10\n",
        "\n",
        "print(a)  # prints \"array([[11,  2,  3],\n",
        "          #                [ 4,  5, 16],\n",
        "          #                [17,  8,  9],\n",
        "          #                [10, 21, 12]])\n",
        "      \n",
        "print(a[-1])"
      ],
      "execution_count": null,
      "outputs": []
    },
    {
      "cell_type": "markdown",
      "metadata": {
        "id": "4afc14Y04nFt"
      },
      "source": [
        "###Boolean array indexing\n",
        "Boolean array indexing lets you pick out arbitrary elements of an array. Frequently this type of indexing is used to select the elements of an array that satisfy some condition. Here is an example:"
      ]
    },
    {
      "cell_type": "code",
      "metadata": {
        "id": "8UNtYfxc4qVE"
      },
      "source": [
        "import numpy as np\n",
        "\n",
        "a = np.array([[1,2], [3, 4], [5, 6]])\n",
        "\n",
        "bool_idx = (a > 2)   # Find the elements of a that are bigger than 2;\n",
        "                     # this returns a numpy array of Booleans of the same\n",
        "                     # shape as a, where each slot of bool_idx tells\n",
        "                     # whether that element of a is > 2.\n",
        "\n",
        "print(bool_idx)      # Prints \"[[False False]\n",
        "                     #          [ True  True]\n",
        "                     #          [ True  True]]\"\n",
        "\n",
        "# We use boolean array indexing to construct a rank 1 array\n",
        "# consisting of the elements of a corresponding to the True values\n",
        "# of bool_idx\n",
        "print(a[bool_idx])  # Prints \"[3 4 5 6]\"\n",
        "\n",
        "# We can do all of the above in a single concise statement:\n",
        "print(a[a > 2])     # Prints \"[3 4 5 6]\""
      ],
      "execution_count": null,
      "outputs": []
    },
    {
      "cell_type": "markdown",
      "metadata": {
        "id": "7R2wgxV15D9W"
      },
      "source": [
        "##Datatypes\n",
        "Every numpy array is a grid of elements of the same type. Numpy provides a large set of numeric datatypes that you can use to construct arrays. Numpy tries to guess a datatype when you create an array, but functions that construct arrays usually also include an optional argument to explicitly specify the datatype. Here is an example:"
      ]
    },
    {
      "cell_type": "code",
      "metadata": {
        "id": "pp6oHkXG5Gqt"
      },
      "source": [
        "import numpy as np\n",
        "\n",
        "x = np.array([1, 2])   # Let numpy choose the datatype\n",
        "print(x.dtype)         # Prints \"int64\"\n",
        "\n",
        "x = np.array([1.0, 2.0])   # Let numpy choose the datatype\n",
        "print(x.dtype)             # Prints \"float64\"\n",
        "\n",
        "x = np.array([1, 2], dtype=np.int64)   # Force a particular datatype\n",
        "print(x.dtype)                         # Prints \"int64\""
      ],
      "execution_count": null,
      "outputs": []
    },
    {
      "cell_type": "markdown",
      "metadata": {
        "id": "JbwteoFp5L7V"
      },
      "source": [
        "##Array math\n",
        "Basic mathematical functions operate elementwise on arrays, and are available both as operator overloads and as functions in the numpy module:"
      ]
    },
    {
      "cell_type": "code",
      "metadata": {
        "id": "EUFi7FKp5Oay"
      },
      "source": [
        "import numpy as np\n",
        "\n",
        "x = np.array([[1,2],[3,4]], dtype=np.float64)\n",
        "y = np.array([[5,6],[7,8]], dtype=np.float64)\n",
        "\n",
        "# Elementwise sum; both produce the array\n",
        "# [[ 6.0  8.0]\n",
        "#  [10.0 12.0]]\n",
        "print(x + y)\n",
        "print(np.add(x, y))\n",
        "\n",
        "# Elementwise difference; both produce the array\n",
        "# [[-4.0 -4.0]\n",
        "#  [-4.0 -4.0]]\n",
        "print(x - y)\n",
        "print(np.subtract(x, y))\n",
        "\n",
        "# Elementwise product; both produce the array\n",
        "# [[ 5.0 12.0]\n",
        "#  [21.0 32.0]]\n",
        "print(x * y)\n",
        "print(np.multiply(x, y))\n",
        "\n",
        "# Elementwise division; both produce the array\n",
        "# [[ 0.2         0.33333333]\n",
        "#  [ 0.42857143  0.5       ]]\n",
        "print(x / y)\n",
        "print(np.divide(x, y))\n",
        "\n",
        "# Elementwise square root; produces the array\n",
        "# [[ 1.          1.41421356]\n",
        "#  [ 1.73205081  2.        ]]\n",
        "print(np.sqrt(x))"
      ],
      "execution_count": null,
      "outputs": []
    },
    {
      "cell_type": "markdown",
      "metadata": {
        "id": "h75MDEXx5T0z"
      },
      "source": [
        "Note that unlike MATLAB, **\\*** is elementwise multiplication, not matrix multiplication. We instead use the **dot** function to compute inner products of vectors, to multiply a vector by a matrix, and to multiply matrices. **dot** is available both as a function in the numpy module and as an instance method of array objects:"
      ]
    },
    {
      "cell_type": "code",
      "metadata": {
        "id": "INnlAMZL5gVU"
      },
      "source": [
        "import numpy as np\n",
        "\n",
        "x = np.array([[1,2],[3,4]])\n",
        "y = np.array([[5,6],[7,8]])\n",
        "\n",
        "v = np.array([9,10])\n",
        "w = np.array([11, 12])\n",
        "\n",
        "# Inner product of vectors; both produce 219\n",
        "print(v.dot(w))\n",
        "print(np.dot(v, w))\n",
        "\n",
        "# Matrix / vector product; both produce the rank 1 array [29 67]\n",
        "print(x.dot(v))\n",
        "print(np.dot(x, v))\n",
        "\n",
        "# Matrix / matrix product; both produce the rank 2 array\n",
        "# [[19 22]\n",
        "#  [43 50]]\n",
        "print(x.dot(y))\n",
        "print(np.dot(x, y))"
      ],
      "execution_count": null,
      "outputs": []
    },
    {
      "cell_type": "markdown",
      "metadata": {
        "id": "BqgL48mq5h4o"
      },
      "source": [
        "Numpy provides many useful functions for performing computations on arrays; one of the most useful is  **sum**:"
      ]
    },
    {
      "cell_type": "code",
      "metadata": {
        "id": "8UB6j_Zg5lEd"
      },
      "source": [
        "import numpy as np\n",
        "\n",
        "x = np.array([[1,2],[3,4]])\n",
        "\n",
        "print(np.sum(x))  # Compute sum of all elements; prints \"10\"\n",
        "print(np.sum(x, axis=0))  # Compute sum of each column; prints \"[4 6]\"\n",
        "print(np.sum(x, axis=1))  # Compute sum of each row; prints \"[3 7]\""
      ],
      "execution_count": null,
      "outputs": []
    },
    {
      "cell_type": "markdown",
      "metadata": {
        "id": "dmUh-Bny5892"
      },
      "source": [
        "Apart from computing mathematical functions using arrays, we frequently need to reshape or otherwise manipulate data in arrays. The simplest example of this type of operation is transposing a matrix; to transpose a matrix, simply use the **T** attribute of an array object:"
      ]
    },
    {
      "cell_type": "code",
      "metadata": {
        "id": "mjSV3jKG6Ans"
      },
      "source": [
        "import numpy as np\n",
        "\n",
        "x = np.array([[1,2], [3,4], [5,6]])\n",
        "print(x)    # Prints \"[[1 2]\n",
        "            #          [3 4]\n",
        "            #          [5 6]]\"\n",
        "print(x.T)  # Prints \"[[1 3 5]\n",
        "            #          [2 4 6]]\"\n",
        "\n",
        "# Note that taking the transpose of a rank 1 array does nothing:\n",
        "v = np.array([1,2,3])\n",
        "print(v)    # Prints \"[1 2 3]\"\n",
        "print(v.T)  # Prints \"[1 2 3]\""
      ],
      "execution_count": null,
      "outputs": []
    },
    {
      "cell_type": "markdown",
      "metadata": {
        "id": "sHq15NuH6PCj"
      },
      "source": [
        "##Broadcasting\n",
        "Broadcasting is a powerful mechanism that allows numpy to work with arrays of different shapes when performing arithmetic operations. Frequently we have a smaller array and a larger array, and we want to use the smaller array multiple times to perform some operation on the larger array.\n",
        "\n",
        "For example, suppose that we want to add a constant vector to each row of a matrix. We could do it like this:"
      ]
    },
    {
      "cell_type": "code",
      "metadata": {
        "id": "n3y_Muj36RQy"
      },
      "source": [
        "import numpy as np\n",
        "\n",
        "def matrix_vector_addition_for_loop():\n",
        "    # We will add the vector v to each row of the matrix x,\n",
        "    # storing the result in the matrix y\n",
        "    x = np.array([[1,2,3], [4,5,6], [7,8,9], [10, 11, 12]])\n",
        "    v = np.array([1, 0, 1])\n",
        "    y = np.empty_like(x)   # Create an empty matrix with the same shape as x\n",
        "\n",
        "    # Add the vector v to each row of the matrix x with an explicit loop\n",
        "    for i in range(4):\n",
        "        y[i, :] = x[i, :] + v\n",
        "\n",
        "    # Now y is the following\n",
        "    # [[ 2  2  4]\n",
        "    #  [ 5  5  7]\n",
        "    #  [ 8  8 10]\n",
        "    #  [11 11 13]]\n",
        "    print(y)\n",
        "\n",
        "matrix_vector_addition_for_loop()"
      ],
      "execution_count": null,
      "outputs": []
    },
    {
      "cell_type": "markdown",
      "metadata": {
        "id": "gl0haqRv6ztp"
      },
      "source": [
        "This works; however when the matrix **x** is very large, computing an explicit loop in Python could be slow. Note that adding the vector **v** to each row of the matrix **x** is equivalent to forming a matrix **vv** by stacking multiple copies of **v** vertically, then performing elementwise summation of **x** and **vv**. We could implement this approach like this:"
      ]
    },
    {
      "cell_type": "code",
      "metadata": {
        "id": "LfrpQCJP7BRV"
      },
      "source": [
        "import numpy as np\n",
        "\n",
        "def matrix_vector_addition_tile():\n",
        "    # We will add the vector v to each row of the matrix x,\n",
        "    # storing the result in the matrix y\n",
        "    x = np.array([[1,2,3], [4,5,6], [7,8,9], [10, 11, 12]])\n",
        "    v = np.array([1, 0, 1])\n",
        "    vv = np.tile(v, (4, 1))   # Stack 4 copies of v on top of each other\n",
        "    print(vv)                 # Prints \"[[1 0 1]\n",
        "                              #          [1 0 1]\n",
        "                              #          [1 0 1]\n",
        "                              #          [1 0 1]]\"\n",
        "    y = x + vv  # Add x and vv elementwise\n",
        "    print(y)  # Prints \"[[ 2  2  4\n",
        "              #          [ 5  5  7]\n",
        "              #          [ 8  8 10]\n",
        "              #          [11 11 13]]\"\n",
        "\n",
        "matrix_vector_addition_tile()"
      ],
      "execution_count": null,
      "outputs": []
    },
    {
      "cell_type": "markdown",
      "metadata": {
        "id": "E-_B6XDq7HEM"
      },
      "source": [
        "Numpy broadcasting allows us to perform this computation without actually creating multiple copies of **v**. Consider this version, using broadcasting:"
      ]
    },
    {
      "cell_type": "code",
      "metadata": {
        "id": "zOlbVAlU7KCv"
      },
      "source": [
        "import numpy as np\n",
        "\n",
        "def matrix_vector_addition_broadcasting():\n",
        "    # We will add the vector v to each row of the matrix x,\n",
        "    # storing the result in the matrix y\n",
        "    x = np.array([[1,2,3], [4,5,6], [7,8,9], [10, 11, 12]])\n",
        "    v = np.array([1, 0, 1])\n",
        "    y = x + v  # Add v to each row of x using broadcasting\n",
        "    print(y)  # Prints \"[[ 2  2  4]\n",
        "              #          [ 5  5  7]\n",
        "              #          [ 8  8 10]\n",
        "              #          [11 11 13]]\"\n",
        "\n",
        "matrix_vector_addition_broadcasting()"
      ],
      "execution_count": null,
      "outputs": []
    },
    {
      "cell_type": "markdown",
      "metadata": {
        "id": "vHQVLQKB7gH7"
      },
      "source": [
        "The line **y = x + v** works even though **x** has shape **(4, 3)** and **v** has shape **(3,)** due to broadcasting; this line works as if **v** actually had shape **(4, 3)**, where each row was a copy of **v**, and the sum was performed elementwise.\n",
        "\n",
        "Broadcasting two arrays together follows these rules:\n",
        "\n",
        "1.   If the arrays do not have the same rank, prepend the shape of the lower rank array with 1s until both shapes have the same length.\n",
        "2.   The two arrays are said to be compatible in a dimension if they have the same size in the dimension, or if one of the arrays has size 1 in that dimension.\n",
        "3.   The arrays can be broadcast together if they are compatible in all dimensions.\n",
        "4.   After broadcasting, each array behaves as if it had shape equal to the elementwise maximum of shapes of the two input arrays.\n",
        "5.   In any dimension where one array had size 1 and the other array had size greater than 1, the first array behaves as if it were copied along that dimension\n",
        "If this explanation does not make sense, try reading the explanation [from the documentation](http://docs.scipy.org/doc/numpy/user/basics.broadcasting.html) or [this explanation](http://wiki.scipy.org/EricsBroadcastingDoc).\n",
        "\n",
        "Functions that support broadcasting are known as universal functions. You can find the list of all universal functions [in the documentation](http://docs.scipy.org/doc/numpy/reference/ufuncs.html#available-ufuncs).\n",
        "\n",
        "Here are some applications of broadcasting:"
      ]
    },
    {
      "cell_type": "code",
      "metadata": {
        "id": "eWQLr3qW8FRi"
      },
      "source": [
        "import numpy as np\n",
        "\n",
        "# Compute outer product of vectors\n",
        "v = np.array([1,2,3])  # v has shape (3,)\n",
        "w = np.array([4,5])    # w has shape (2,)\n",
        "# To compute an outer product, we first reshape v to be a column\n",
        "# vector of shape (3, 1); we can then broadcast it against w to yield\n",
        "# an output of shape (3, 2), which is the outer product of v and w:\n",
        "# [[ 4  5]\n",
        "#  [ 8 10]\n",
        "#  [12 15]]\n",
        "print(v)\n",
        "print(v.shape)\n",
        "print(np.reshape(v, (3, 1)) * w)\n",
        "print(\"=\"*10)\n",
        "\n",
        "# Add a vector to each row of a matrix\n",
        "x = np.array([[1,2,3], [4,5,6]])\n",
        "# x has shape (2, 3) and v has shape (3,) so they broadcast to (2, 3),\n",
        "# giving the following matrix:\n",
        "# [[2 4 6]\n",
        "#  [5 7 9]]\n",
        "print(x + v)\n",
        "print(\"=\"*10)\n",
        "\n",
        "# Add a vector to each column of a matrix\n",
        "# x has shape (2, 3) and w has shape (2,).\n",
        "# If we transpose x then it has shape (3, 2) and can be broadcast\n",
        "# against w to yield a result of shape (3, 2); transposing this result\n",
        "# yields the final result of shape (2, 3) which is the matrix x with\n",
        "# the vector w added to each column. Gives the following matrix:\n",
        "# [[ 5  6  7]\n",
        "#  [ 9 10 11]]\n",
        "print((x.T + w).T)\n",
        "# Another solution is to reshape w to be a column vector of shape (2, 1);\n",
        "# we can then broadcast it directly against x to produce the same\n",
        "# output.\n",
        "print(x + np.reshape(w, (2, 1)))\n",
        "print(\"=\"*10)\n",
        "\n",
        "# Multiply a matrix by a constant:\n",
        "# x has shape (2, 3). Numpy treats scalars as arrays of shape ();\n",
        "# these can be broadcast together to shape (2, 3), producing the\n",
        "# following array:\n",
        "# [[ 2  4  6]\n",
        "#  [ 8 10 12]]\n",
        "print(x * 2)"
      ],
      "execution_count": null,
      "outputs": []
    },
    {
      "cell_type": "markdown",
      "metadata": {
        "id": "BEBE1BLz9vIn"
      },
      "source": [
        "#Examples\n",
        "Example usage of NumPy functions and capabilities are shown in this section.\n",
        "\n",
        "##Reshape\n"
      ]
    },
    {
      "cell_type": "code",
      "metadata": {
        "id": "M58iWwjzboiI"
      },
      "source": [
        "import numpy as np\n",
        "data = [[[ -65.95908557,  -63.97341376,  -65.21262771,  -66.93861711,\n",
        "         -70.78769377,  -73.61286297,  -75.23243746,  -80.64770475,\n",
        "         -84.10421136,  -78.99697226,  -71.46351301,  -67.32101755,\n",
        "         -65.0351064 ,  -65.62610111,  -3087.7631902 ,  -67.54645939,\n",
        "         -68.28877494,  -72.95420378,  -73.62812904,  -67.26848278,\n",
        "         -65.61348777,  -70.2768999 ,  -76.65572811,  -81.02550208,\n",
        "         -85.66647233,  -90.98955599,  -93.38079326,  -93.73327595,\n",
        "         -92.82270407,  -1243.27631479,  -95.4478803 ,  -98.57372858,\n",
        "        -103.61576192, -104.32309408,  -98.32468459,  -93.78454198,\n",
        "         -91.15031051,  -87.12076227,  -89.20683953,  -88.6679235 ,\n",
        "         -87.41669088,  -85.39248604,  -86.71663635,  -86.7539244 ,\n",
        "         -83.92467452,  -82.73530095,  -84.30922987,  -87.13725382,\n",
        "         -90.2965852 ,  -91.3575269 ,  -92.6341577 ,  -95.40403562,\n",
        "         -96.03455137],\n",
        "       [-127.60488337, -126.78744136, -129.42626472, -131.69108542,\n",
        "        -135.28616258, -136.60486018, -141.00903636, -144.82758007,\n",
        "        -147.72975335, -142.34860903, -138.0609529 , -137.42374931,\n",
        "        -136.9858302 , -1138.91214016, -141.07736956, -142.06590874,\n",
        "        -144.79720148, -148.15136637, -148.68873208, -145.49461383,\n",
        "        -144.5246334 , -147.98126686, -153.75259362, -157.9142651 ,\n",
        "        -9766.07501156, -165.81544251, -167.50199966, -166.56966383,\n",
        "        -164.80413122, -161.6242469 , -162.39511868, -166.3661404 ,\n",
        "        -171.07705415, -171.57636758, -168.67068089, -164.70530325,\n",
        "        -164.18807804, -162.7567039 , -160.86486076, -160.56206055,\n",
        "        -160.14812257, -161.70260181, -167.45826158, -169.48694892,\n",
        "        -168.51089872, -167.40135057, -170.08398447, -174.47580537,\n",
        "        -176.42214106, -178.50921499, -181.1893899 , -183.12524894,\n",
        "        -183.44057677],\n",
        "       [ -84.08943757,  -80.17677038,  -83.76441858,  -87.51323658,\n",
        "         -91.52274662,  -93.79820561,  -2532.81200848, -100.8150816 ,\n",
        "        -102.92926879,  -99.7400537 ,  -94.20237445,  -91.85917052,\n",
        "         -91.80935202,  -91.92607225,  -93.38837314,  -93.119015  ,\n",
        "         -95.66009371, -101.6111642 , -101.66079474,  -98.86925771,\n",
        "         -94.41973801, -100.15090656, -109.807924  , -113.95008263,\n",
        "        -115.20177106, -119.7849144 , -123.30110552, -120.88858643,\n",
        "        -115.81621905, -113.4531334 , -111.92530207, -115.70949071,\n",
        "        -121.13245102, -121.65179784, -116.10527558, -115.02260002,\n",
        "        -113.96788241, -113.41387302, -114.92827381, -109.20373796,\n",
        "        -110.68156638, -113.14419302, -117.87063229, -119.04122253,\n",
        "        -121.70582088, -121.65817776, -122.62298729, -125.78703857,\n",
        "        -129.42429778, -130.55227354, -131.96355935, -133.13269934,\n",
        "        -133.68624668]], [[-224.02935202, -228.69872839, -232.68714074, -235.72229472,\n",
        "        -240.44601365, -244.32006995, -243.28146546, -241.21004934,\n",
        "        -241.42747434, -242.57082585, -243.55994386, -246.06472171,\n",
        "        -249.03477884, -250.01051978, -253.52804718, -264.33666583,\n",
        "        -273.24171063, -278.22887785, -283.43215628, -285.63337355,\n",
        "        -292.04371157, -298.27268006, -299.07847258, -303.99401174,\n",
        "        -309.10907134, -306.75880372, -299.5874599 , -292.86270492,\n",
        "        -289.88332284, -287.41817823, -287.27042532, -286.68488315,\n",
        "        -284.75554934],\n",
        "       [-206.07104955, -208.1317643 , -211.04744627, -213.32465484,\n",
        "        -218.28938868, -221.2116339 , -220.58588111, -217.16134483,\n",
        "        -216.65956823, -220.33623987, -227.38607928, -233.56651988,\n",
        "        -236.13387737, -240.15443318, -246.59704303, -257.14475692,\n",
        "        -260.19379605, -260.57158547, -262.28611387, -263.11944941,\n",
        "        -265.06541128, -266.79835747, -264.1736854 , -262.75974967,\n",
        "        -262.8701131 , -259.37696213, -257.89970589, -259.90012538,\n",
        "        -264.77749181, -267.58847777, -270.61082555, -270.28207873,\n",
        "        -269.85675515],\n",
        "       [-105.78590933, -108.02692863, -111.80515902, -118.43637458,\n",
        "        -124.33607078, -129.51943699, -130.13195507, -128.29224255,\n",
        "        -127.09130173, -7239.40419028, -129.57649614, -132.95449397,\n",
        "        -136.00902046, -139.08420992, -141.4903368 , -152.00279827,\n",
        "        -158.57996768, -157.39375344, -159.39158489, -160.45208803,\n",
        "        -164.79173891, -169.15208806, -163.79981219, -163.77769836,\n",
        "        -166.84268525, -166.46662726, -163.11837329, -163.70250751,\n",
        "        -170.24806715, -176.06574144, -184.37414437, -186.26929979,\n",
        "        -183.88191205]], [[  5.70071666,   5.12713829,   9.12781018,  11.70362622,\n",
        "         10.13608481,   6.80100092,   7.70089958,   9.30970188,\n",
        "          9.76097884,   7.97374573,   1.90312817,  -3.33420809,\n",
        "         -3.80346205,  -2.40775293,  -1.45059938,  -2.51134658,\n",
        "         -6.63329981,  -8.60570227,  -8.15197965,  -8.14912188,\n",
        "         -8.47252146,  -1003.49706042,  -6.87947061,  -7.18442616,\n",
        "         -5.79165292,  -2.89682476,   1.17506168,   0.59401666,\n",
        "         -1.06916705,  -0.40562673,  -1.41860488,  -6.77354   ,\n",
        "        -10.64125177],\n",
        "       [ -7.237638  ,  -6.84331153,  -5.14669192,  -5.954364  ,\n",
        "         -7.01253221,  -9.31842753, -12.96315608, -11.91180273,\n",
        "        -11.28399524, -15.63413343, -22.32575368, -24.71818728,\n",
        "        -23.22836861, -21.11178396, -16.77498367, -11.68159769,\n",
        "        -14.38397752, -8736.30488814, -18.98802538, -18.31711367,\n",
        "        -21.79791775, -21.99682231, -20.01055706, -21.84203479,\n",
        "        -22.86999302, -18.56879304, -14.85296358, -16.20303961,\n",
        "        -18.88507979, -18.01360735, -20.48946737, -24.65644813,\n",
        "        -27.08230888],\n",
        "       [ -9.02620894, -10.68612796,  -8.61261759,  -6.359211  ,\n",
        "         -9.79291434, -15.99962428, -14.03317675, -15.19579242,\n",
        "        -17.8500015 , -19.01172887, -25.22487329, -29.27951724,\n",
        "        -28.27397776, -27.08336058, -21.7031801 , -17.90607775,\n",
        "        -20.80455754, -24.78908596, -28.71616619, -30.9085876 ,\n",
        "        -36.06247522, -38.93577809, -38.00513618, -34.56044414,\n",
        "        -33.14300774, -30.35872662, -24.8165557 , -24.34782338,\n",
        "        -27.47534306, -29.2885564 , -29.72503702, -31.53940821,\n",
        "        -36.61558685]], [[ 90.26312268,  91.13381673,  92.6952902 ,  96.69638844,\n",
        "         96.56799993,  95.51706567,  88.18313927,  83.42033174,\n",
        "         85.14173327,  90.25793917,  96.45917536, 100.68493498,\n",
        "        102.96869233,  99.78246472,  98.75646903,  98.39893702,\n",
        "         95.28441388,  93.49190811,  94.54285771,  93.65135258,\n",
        "         94.2245991 ,  95.98760426,  92.6078526 ],\n",
        "       [ 61.69719083,  62.01635541,  65.08206737,  68.36723613,\n",
        "         68.55608132,  66.76290878,  61.90752121,  55.24706826,\n",
        "         53.0958029 ,  97.20097564,  60.77531437,  60.40447683,\n",
        "         60.67338216,  58.94867873,  55.53638337,  53.8705792 ,\n",
        "         49.26466618,  44.31864364,  41.38884348,  43.11953878,\n",
        "         47.31865184,  49.20772085,  43.70284646],\n",
        "       [ 79.43374139,  80.6404031 ,  80.90720566,  82.26434351,\n",
        "         83.51788042,  84.28143729,  76.63248792,  70.80074924,\n",
        "         69.32491328,  71.89742613,  77.08434398,  80.29479058,\n",
        "         81.87551329,  79.29940657,  78.32280189,  74.5175998 ,\n",
        "         68.74061814,  65.63432839,  65.43966712,  61.21508507,\n",
        "         62.33681306,  64.74878994,  62.2436584 ]], [[-36.18753749, -37.03554495, -38.53776678, -37.60481948,\n",
        "        -37.01578926, -38.69967603, -41.45451718, -40.63522   ,\n",
        "        -39.06071837, -37.38955169, -36.43339673, -34.9708296 ,\n",
        "        -32.62346652, -33.66951597, -36.07629012, -36.6886998 ,\n",
        "        -37.10539836, -36.21078919, -33.20709699, -32.3336532 ,\n",
        "        -33.30456627, -33.93416476, -36.01188862, -39.30193979,\n",
        "        -41.04270376, -41.69627919, -39.54117021, -38.98375974,\n",
        "        -36.86993841, -36.14021   , -35.60963712, -39.96694062,\n",
        "        -39.96084526],\n",
        "       [-70.59582149, -74.59435201, -75.39347971, -73.78138144,\n",
        "        -73.10238382, -73.16348582, -75.10955466, -74.8922735 ,\n",
        "        -73.36452895, -71.43741664, -71.51866355, -70.70121226,\n",
        "        -69.35804362, -70.64317651, -71.33670408, -71.47076748,\n",
        "        -71.23694516, -67.14325916, -67.98376475, -69.52694695,\n",
        "        -68.95330395, -67.51193735, -70.17692268, -72.86579382,\n",
        "        -74.78295192, -76.70029432, -75.86263605, -73.36178313,\n",
        "        -69.63567515, -68.71721805, -73.45202056, -76.52856995,\n",
        "        -77.32081966],\n",
        "       [-57.64889074, -62.7726187 , -63.24885061, -63.83504172,\n",
        "        -62.72010938, -63.86851998, -67.23911484, -66.12908402,\n",
        "        -64.64331813, -65.66363293, -66.53735897, -69.07832008,\n",
        "        -66.38018917, -66.06767723, -71.89114755, -74.72768917,\n",
        "        -74.83225677, -69.93216421, -68.94676288, -69.20660278,\n",
        "        -71.23535417, -73.62502972, -72.12966312, -75.91540242,\n",
        "        -77.62234853, -80.61434939, -77.22789903, -75.95908819,\n",
        "        -72.74391122, -73.70723943, 9375.94298682, -80.04454022,\n",
        "        -79.44712166]]]\n",
        "\n",
        "\n",
        "print(np.array(data, dtype=object).shape)\n",
        "\n",
        "# Imagine that you obtained this dataset and the description as:\n",
        "\"\"\"We have measured the values in 5 experiments, each experiment differs in length.\n",
        "All experiments were measured by 3 devices. We know that measured values are not perfect,\n",
        "so if we measure a value bigger than 1000 or lower than -1000, we should not take into account the measurement from the device in the experiment.\n",
        "\"\"\"\n",
        "# Can you compute the maximum and the minimum of each device per each experiment, but ignore them if the condition is not met? \n",
        "# The result will be a list of maximum of 5 values for max/min per each device?\n",
        "# Take a look at data and notice that you cannot use only one 3D numpy array because it differs in length.\n",
        "data = [np.array(d) for d in data]\n",
        "\n",
        "MAX_VAL = 1000\n",
        "\n",
        "def print_max_min(data):\n",
        "    min_v, max_v = [],[]\n",
        "    for v in data:\n",
        "        min_v.append(np.min(v, axis = 1))\n",
        "        max_v.append(np.max(v,axis = 1)) \n",
        "    min_v = np.array(min_v)\n",
        "    max_v = np.array(max_v)\n",
        "    print(\"\\nMIN\")\n",
        "    print(min_v)\n",
        "    print(\"MAX\")\n",
        "    print(max_v)\n",
        "\n",
        "    # NOTE: this is just example how to use where, numpy has much more suitable function \n",
        "    # https://numpy.org/doc/stable/reference/generated/numpy.clip.html\n",
        "    \n",
        "    clipped_min_v = np.where(min_v > -MAX_VAL, min_v, -MAX_VAL)\n",
        "    clipped_max_v = np.where(max_v < MAX_VAL, max_v, MAX_VAL)\n",
        "\n",
        "    print(\"\\nClipped MIN\")\n",
        "    print(clipped_min_v)\n",
        "    print(\"Clipped MAX\")\n",
        "    print(clipped_max_v)    \n",
        "\n",
        "    #print(np.where(min_v.T[0] > -MAX_VAL))\n",
        "    valid_min_v = [a[np.where(a > -MAX_VAL)] for a in min_v.T]\n",
        "    valid_max_v = [a[np.where(a < MAX_VAL)] for a in max_v.T]\n",
        "\n",
        "    print(\"\\nValid MIN (per device)\")\n",
        "    print(valid_min_v)\n",
        "    print(\"Valid MAX (per device)\")\n",
        "    print(valid_max_v)\n",
        "\n",
        "print_max_min(data)\n",
        "\n",
        "\n"
      ],
      "execution_count": null,
      "outputs": []
    },
    {
      "cell_type": "markdown",
      "metadata": {
        "id": "w_5-a8MG9kQk"
      },
      "source": [
        "#SciPy\n",
        "Numpy provides a high-performance multidimensional array and basic tools to compute with and manipulate these arrays. SciPy builds on this, and provides a large number of functions that operate on numpy arrays and are useful for different types of scientific and engineering applications.\n",
        "\n",
        "The best way to get familiar with SciPy is to [browse the documentation](http://docs.scipy.org/doc/scipy/reference/index.html). We will highlight some parts of SciPy that you might find useful for this class."
      ]
    },
    {
      "cell_type": "markdown",
      "metadata": {
        "id": "dhuUIzPq91kX"
      },
      "source": [
        "##Distance between points\n",
        "SciPy defines some useful functions for computing distances between sets of points.\n",
        "\n",
        "The function **scipy.spatial.distance.pdist** computes the distance between all pairs of points in a given set:"
      ]
    },
    {
      "cell_type": "code",
      "metadata": {
        "id": "6aQnDSsk-O1H"
      },
      "source": [
        "import numpy as np\n",
        "from scipy.spatial.distance import pdist, squareform\n",
        "\n",
        "# Create the following array where each row is a point in 2D space:\n",
        "# [[1 2]\n",
        "#  [2 1]\n",
        "#  [3 1]]\n",
        "x = np.array([[1, 2], [2, 1], [3, 1]])\n",
        "print(x)\n",
        "# Compute the Euclidean distance between all rows of x.\n",
        "# d[i, j] is the Euclidean distance between x[i, :] and x[j, :],\n",
        "# and d is the following array:\n",
        "# [[ 0.          1.41421356  2.23606798]\n",
        "#  [ 1.41421356  0.          1.        ]\n",
        "#  [ 2.23606798  1.          0.        ]]\n",
        "d = squareform(pdist(x, 'euclidean'))\n",
        "#print(pdist(x, 'euclidean'))\n",
        "print(d)"
      ],
      "execution_count": null,
      "outputs": []
    },
    {
      "cell_type": "markdown",
      "metadata": {
        "id": "Ueq1d-3w-SjC"
      },
      "source": [
        "You can read all the details about this function [in the documentation](http://docs.scipy.org/doc/scipy/reference/generated/scipy.spatial.distance.pdist.html).\n",
        "\n",
        "A similar function (**scipy.spatial.distance.cdist**) computes the distance between all pairs across two sets of points; you can read about it [in the documentation](http://docs.scipy.org/doc/scipy/reference/generated/scipy.spatial.distance.cdist.html)."
      ]
    },
    {
      "cell_type": "markdown",
      "metadata": {
        "id": "_AnhuV8H-g4x"
      },
      "source": [
        "#Matplotlib\n",
        "Matplotlib is a plotting library. In this section give a brief introduction to the matplotlib.pyplot module, which provides a plotting system similar to that of MATLAB.\n"
      ]
    },
    {
      "cell_type": "markdown",
      "metadata": {
        "id": "PFy9qoL7_BWQ"
      },
      "source": [
        "##Plotting\n",
        "The most important function in matplotlib is **plot**, which allows you to plot 2D data. Here is a simple example:"
      ]
    },
    {
      "cell_type": "code",
      "metadata": {
        "id": "KY8AvlkL-pcl"
      },
      "source": [
        "import numpy as np\n",
        "import matplotlib.pyplot as plt\n",
        "\n",
        "# Compute the x and y coordinates for points on a sine curve\n",
        "x = np.arange(0, 3 * np.pi, 0.1)\n",
        "y = np.sin(x)\n",
        "\n",
        "# Plot the points using matplotlib\n",
        "plt.plot(x, y)\n",
        "plt.show()  # You must call plt.show() to make graphics appear.\n"
      ],
      "execution_count": null,
      "outputs": []
    },
    {
      "cell_type": "markdown",
      "metadata": {
        "id": "d7nu0At_-vvt"
      },
      "source": [
        "With just a little bit of extra work we can easily plot multiple lines at once, and add a title, legend, and axis labels:"
      ]
    },
    {
      "cell_type": "code",
      "metadata": {
        "id": "CicNPnnm-x_V"
      },
      "source": [
        "import numpy as np\n",
        "import matplotlib.pyplot as plt\n",
        "\n",
        "# Compute the x and y coordinates for points on sine and cosine curves\n",
        "x = np.arange(0, 3 * np.pi, 0.1)\n",
        "y_sin = np.sin(x)\n",
        "y_cos = np.cos(x)\n",
        "\n",
        "# Plot the points using matplotlib\n",
        "plt.plot(x, y_sin)\n",
        "plt.plot(x, y_cos)\n",
        "plt.xlabel('x axis label')\n",
        "plt.ylabel('y axis label')\n",
        "plt.title('Sine and Cosine')\n",
        "plt.legend(['Sine', 'Cosine'])\n",
        "plt.show()"
      ],
      "execution_count": null,
      "outputs": []
    },
    {
      "cell_type": "markdown",
      "metadata": {
        "id": "KGxlJuNn-5Kc"
      },
      "source": [
        "You can read much more about the plot function [in the documentation](http://matplotlib.org/api/pyplot_api.html#matplotlib.pyplot.plot)."
      ]
    },
    {
      "cell_type": "markdown",
      "metadata": {
        "id": "Jsrn7XHD_F3W"
      },
      "source": [
        "##Subplots\n",
        "You can plot different things in the same figure using the **subplot** function. Here is an example:"
      ]
    },
    {
      "cell_type": "code",
      "metadata": {
        "id": "y9s8mpX7_N2_"
      },
      "source": [
        "import numpy as np\n",
        "import matplotlib.pyplot as plt\n",
        "\n",
        "# Compute the x and y coordinates for points on sine and cosine curves\n",
        "x = np.arange(0, 3 * np.pi, 0.1)\n",
        "y_sin = np.sin(x)\n",
        "y_cos = np.cos(x)\n",
        "\n",
        "# Set up a subplot grid that has height 2 and width 1,\n",
        "# and set the first such subplot as active.\n",
        "plt.subplot(2, 1, 1)\n",
        "\n",
        "# Make the first plot\n",
        "plt.plot(x, y_sin)\n",
        "plt.title('Sine')\n",
        "\n",
        "# Set the second subplot as active, and make the second plot.\n",
        "plt.subplot(2, 1, 2)\n",
        "plt.plot(x, y_cos)\n",
        "plt.title('Cosine')\n",
        "\n",
        "# Show the figure.\n",
        "plt.show()"
      ],
      "execution_count": null,
      "outputs": []
    },
    {
      "cell_type": "markdown",
      "metadata": {
        "id": "EuvIyj4D_aDN"
      },
      "source": [
        "You can read much more about the subplot function in the documentation.\n",
        "\n",
        "##Images\n",
        "You can use the imshow function to show images. Here is an example:\n"
      ]
    },
    {
      "cell_type": "code",
      "metadata": {
        "id": "D5xm4M_4_c46"
      },
      "source": [
        "import numpy as np\n",
        "import matplotlib.pyplot as plt\n",
        "from skimage.io import imread, imsave, imshow\n",
        "from skimage.transform import resize\n",
        "url = \"http://www.fit.vutbr.cz/~ispanhel/data/BISSIT/Lenna_test_image.png\"\n",
        "\n",
        "# Read an JPEG image into a numpy array\n",
        "## img = imread('Lenna_test_image.png')              \n",
        "img = np.asarray(imread(url))\n",
        "img_tinted = img * [1, 0.95, 0.9]\n",
        "\n",
        "# Show the original image\n",
        "plt.subplot(1, 2, 1)\n",
        "plt.imshow(img)\n",
        "\n",
        "# Show the tinted image\n",
        "plt.subplot(1, 2, 2)\n",
        "\n",
        "# A slight gotcha with imshow is that it might give strange results\n",
        "# if presented with data that is not uint8. To work around this, we\n",
        "# explicitly cast the image to uint8 before displaying it.\n",
        "plt.imshow(np.uint8(img_tinted))\n",
        "plt.show()"
      ],
      "execution_count": null,
      "outputs": []
    },
    {
      "cell_type": "markdown",
      "metadata": {
        "id": "_hQSCcqoHSF_"
      },
      "source": [
        "##Examples"
      ]
    },
    {
      "cell_type": "markdown",
      "metadata": {
        "id": "Y7bhXfO7VcW7"
      },
      "source": [
        "### Visualizing data distribution"
      ]
    },
    {
      "cell_type": "code",
      "metadata": {
        "id": "TRM1xc6yIIAY"
      },
      "source": [
        "import numpy as np\n",
        "import matplotlib.pyplot as plt\n",
        "\n",
        "data = [[1503.86147173, 5800.72959384,  804.3129919 , 1003.96300786,\n",
        "       1091.72255514, 2632.5108726 , 2297.25297041, 1165.17694612,\n",
        "       1763.57964739, 1851.60241893, 1953.80121046, 2011.90061341,\n",
        "       1824.42347476, 1206.152983  ], [1429.96865728, 3243.48877115,  731.60082458,  719.56709024,\n",
        "       1012.90662886, 1284.99488631, 1782.31706214,  733.63382987,\n",
        "        761.6524857 ,  596.69075452,  759.5981745 ,  706.75779481,\n",
        "       1379.85652052, 1943.7133019 ], [1881.80350561, 1321.69314025, 1676.88324532, 1593.38289173,\n",
        "       2081.73757912, 2183.33471524, 1596.65029401,  862.10030661,\n",
        "       1036.34412763,  912.88895   ,  461.54488143, 1681.85552071,\n",
        "        817.13929949, 1249.19597184, 1356.59874863], [1152.80350917,  957.24147401,  496.96172517,  593.41898079,\n",
        "        797.67704616,  798.17209273,  279.21715829,  504.98527085,\n",
        "        361.73534912,  785.36211998,  629.1483132 ,  624.79780721,\n",
        "        293.31112151,  965.23604933], [266.13142948, 169.1273822 , 182.99678201, 118.48653703,\n",
        "       252.00125373, 287.36127904, 116.73944663,  82.7309559 ,\n",
        "       151.02536526, 101.96242073,  92.80589317,  91.78823894,\n",
        "       119.15110648, 169.63132133], [319.04527868, 300.51088728, 238.36717435, 229.73870182,\n",
        "       393.53273122, 154.86993506, 377.72935633, 412.57623214,\n",
        "       297.52338358, 118.1260811 , 510.01547972, 553.51539757,\n",
        "       283.04720091, 357.04176309], [871.86714405, 945.81375197, 809.3748729 , 339.93666927,\n",
        "       516.28397456, 765.99710978, 360.03321702, 448.14351022,\n",
        "       816.84731857, 860.41176771, 293.8850374 , 368.9346631 ,\n",
        "       632.96153552, 459.09077019], [ 579.94141451, 1184.10963027,  876.64197722, 1369.72370265,\n",
        "        367.7690858 ,  524.36476497,  253.15380216,  180.27778862,\n",
        "        402.75404476,  462.89359339,  296.92996763,  327.18283839,\n",
        "        272.48540772,  226.62991604], [579.2547624 , 668.69485381, 647.49055288, 746.80106362,\n",
        "       350.77559262, 424.99957968, 426.13443751, 308.01604888,\n",
        "       243.63343696, 243.45839333, 285.74945335, 344.19380197,\n",
        "       704.84586578, 589.17165744], [1881.30512043, 1780.13749483, 1469.44580841, 1572.40069217,\n",
        "       2600.26748309, 1365.1982741 , 2063.1662555 , 1058.74518105,\n",
        "       1278.30583834,  846.81745864, 1273.5504698 , 1172.58544219,\n",
        "       1714.33479634, 3862.72200194], [1900.39597873, 2297.24578062, 1764.91873846, 1922.65541997,\n",
        "       1185.63056488, 2675.58573251, 1693.71623118, 1801.87252954,\n",
        "       1705.58619939,  977.78578874, 1533.35329679, 1389.79658787,\n",
        "       2680.41572831, 1649.76481744], [1498.27453694,  799.5949579 , 1382.60253929, 1386.43958412,\n",
        "       1104.53951996,  880.12940485, 1762.92456954, 1743.2868637 ,\n",
        "        780.84587824,  667.05206325, 1283.29594546,  670.29784216,\n",
        "        967.85201076,  683.73811812], [ 604.05272127,  928.6873002 ,  525.03706962,  386.40262878,\n",
        "        609.13472489,  451.53638153, 1058.29427864, 1491.98993011,\n",
        "        533.27503594,  290.60008019,  407.74998002,  271.04072222,\n",
        "        766.00901556, 1987.2051126 ,  496.95043013], [588.4416558 , 592.78276812, 304.78543004, 630.54157949,\n",
        "       756.98034665, 352.10162346, 179.71231744, 257.99945698,\n",
        "       259.18377526, 492.74320967, 477.20523215, 294.76100115,\n",
        "       221.23467038, 439.59287937], [ 508.48111572,  710.53990008, 1068.64386198, 1177.39970703,\n",
        "        532.33212151,  175.80458522,  354.69382961,  375.75266492,\n",
        "        157.7668589 ,  451.09833884,  467.32154391,  360.12329674]]\n",
        "\n",
        "fig, ax = plt.subplots(figsize = (8,4))\n",
        "ax.set_title(\"DISTRIBUTION PER CLASS\")\n",
        "ax.boxplot(data)\n",
        "\n",
        "labels = ['eight', 'divide', 'five', 'multiply', 'two', 'four', 'seven', 'six', 'three', 'nine', 'add', 'one', 'subtract', 'zero', 'percent']\n",
        "plt.xticks(np.arange(len(labels)) + 1,labels,rotation = 45)\n",
        "plt.show()"
      ],
      "execution_count": null,
      "outputs": []
    },
    {
      "cell_type": "markdown",
      "metadata": {
        "id": "JvPkwE4RU1sE"
      },
      "source": [
        "### Visualizing the model accuracy on different datasets"
      ]
    },
    {
      "cell_type": "code",
      "metadata": {
        "id": "DPmwYrB2HSX1"
      },
      "source": [
        "from matplotlib import lines\n",
        "from matplotlib.legend import Legend\n",
        "\n",
        "def show_accuracies(accuracies, datasets, chance_lvls, labels):\n",
        "    fig, ax = plt.subplots(figsize = (8,4))\n",
        "    indices = np.arange(len(datasets))\n",
        "    bar_width = 0.15\n",
        "\n",
        "    # Put bars\n",
        "    for i in range(len(labels)):\n",
        "        ax.bar(indices + i * bar_width, tuple(100 * accuracies[:,i]), bar_width, label=labels[i])\n",
        "        \n",
        "    # Put lines that represents chance level\n",
        "    seg_len = 1 / float(len(datasets))\n",
        "    for i in range(len(datasets)):    \n",
        "        plt.axhline(y=100 * chance_lvls[i], xmin = seg_len * i, xmax= seg_len * (i+1),linewidth=1.2,color=\"black\")\n",
        "\n",
        "    \n",
        "    ax.set_ylabel('Accuracy [%]')\n",
        "    ax.set_ylim(0, 100)\n",
        "\n",
        "    # Find convinient positions to put labels on x axis\n",
        "    plt.xticks(indices + (len(labels)-1) * bar_width / 2.0, tuple(datasets), rotation=0)\n",
        "\n",
        "    # Use nice legend for chance level line and put it on different position in the plot\n",
        "    vertical_line = lines.Line2D([], [], marker='_', color=\"black\", linestyle='None', markersize=16, markeredgewidth=2.5, label='Chance level')\n",
        "    handles, _ = ax.get_legend_handles_labels()  \n",
        "    ax.legend(handles = handles[:3], loc='upper left', frameon=False)\n",
        "    leg = Legend(ax, handles[3:] + [vertical_line], labels[3:] + ['Chance level'], loc='upper right', frameon=False)\n",
        "    ax.add_artist(leg);\n",
        "    fig.tight_layout()\n",
        "\n",
        "    \n",
        "    \n",
        "accuracies = np.array([[0.196 , 0.550 , 0.400 , 0.298 , 0.614],\n",
        "[0.596 , 0.575 , 0.475 , 0.667 , 0],\n",
        "[0.447 , 0.537 , 0.600 , 0.537 , 0]]).T\n",
        "\n",
        "datasets = [\"DS1\",\"DS3\",\"DS4\",\"DS7\",\"DS10\"]\n",
        "number_of_classes = np.array([15, 15, 10, 13, 15])\n",
        "show_accuracies(accuracies, datasets, 1.0 / number_of_classes, [\"OPENED\", \"CLOSED\", \"ALL\"])\n"
      ],
      "execution_count": null,
      "outputs": []
    }
  ]
}