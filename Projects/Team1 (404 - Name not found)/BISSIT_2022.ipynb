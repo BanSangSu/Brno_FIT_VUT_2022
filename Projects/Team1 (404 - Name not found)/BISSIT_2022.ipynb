{
  "cells": [
    {
      "cell_type": "markdown",
      "metadata": {
        "id": "j-w44uMkcAw6"
      },
      "source": [
        "#1. TRAIN"
      ]
    },
    {
      "cell_type": "markdown",
      "metadata": {
        "id": "iRdIZTR5dJbs"
      },
      "source": [
        "##0) import"
      ]
    },
    {
      "cell_type": "code",
      "execution_count": 1,
      "metadata": {
        "id": "M148cfpSX96g"
      },
      "outputs": [],
      "source": [
        "import matplotlib.pyplot as plt\n",
        "import numpy as np\n",
        "from sklearn.model_selection import KFold\n",
        "from tensorflow.keras.datasets import mnist\n",
        "from tensorflow.keras.utils import to_categorical\n",
        "from tensorflow.keras.models import Sequential\n",
        "from tensorflow.keras.layers import Dense, Conv2D, MaxPooling2D, Flatten, Dropout\n",
        "from tensorflow.keras.models import load_model\n",
        "from tensorflow.keras.optimizers import SGD"
      ]
    },
    {
      "cell_type": "markdown",
      "metadata": {
        "id": "MwouPeSYYzoc"
      },
      "source": [
        "\n",
        "##1) load_dataset\n",
        "---\n",
        "* LOAD THE EMNIST DATASET\n",
        "* RESHAPE DATASET TO HAVE ONLY ONE CHANNEL\n",
        "* ONE HOT ENCODE\n",
        "\n"
      ]
    },
    {
      "cell_type": "code",
      "execution_count": 2,
      "metadata": {
        "id": "IniOopd1bcYJ"
      },
      "outputs": [],
      "source": [
        "def load_dataset():\n",
        "\t(X_train, Y_train), (X_test, Y_test) = mnist.load_data()\n",
        "\n",
        "\tX_train = X_train.reshape((X_train.shape[0], 28, 28, 1))\n",
        "\tX_test = X_test.reshape((X_test.shape[0], 28, 28, 1))\n",
        "\n",
        "\tY_train = to_categorical(Y_train)\n",
        "\tY_test = to_categorical(Y_test)\n",
        "\n",
        "\treturn X_train, Y_train, X_test, Y_test"
      ]
    },
    {
      "cell_type": "markdown",
      "metadata": {
        "id": "JJjFXTsgY0U9"
      },
      "source": [
        "## 2) normalize\n",
        "\n",
        "---\n",
        "* CONVERT INTEGERS TO FLOATS\n",
        "* NORMALIZE\n"
      ]
    },
    {
      "cell_type": "code",
      "execution_count": 3,
      "metadata": {
        "id": "e_xXe6t4b4p4"
      },
      "outputs": [],
      "source": [
        "def normalize(train, test):\n",
        "\ttrain_f = train.astype('float32')\n",
        "\ttest_f = test.astype('float32')\n",
        "\n",
        "\tnormalized_train = train_f / 255.0\n",
        "\tnormalized_test = test_f / 255.0\n",
        "\n",
        "\treturn normalized_train, normalized_test"
      ]
    },
    {
      "cell_type": "markdown",
      "metadata": {
        "id": "AvuQl8pFY0um"
      },
      "source": [
        "##3) set_model\n",
        "\n",
        "\n",
        "\n",
        "---\n",
        "\n",
        "\n",
        "* DEFINE NEURAL NETWORK MODEL"
      ]
    },
    {
      "cell_type": "code",
      "execution_count": 4,
      "metadata": {
        "id": "Gj5fx-w4cI8v"
      },
      "outputs": [],
      "source": [
        "def set_model():\n",
        "    model = Sequential()\n",
        "    model.add(Conv2D(32, (3, 3), strides=(1,1), activation='relu', kernel_initializer='he_uniform', input_shape=(28, 28, 1)))\n",
        "    model.add(MaxPooling2D((3, 3)))\n",
        "    model.add(Conv2D(64, (3, 3), activation='relu', kernel_initializer='he_uniform'))\n",
        "    model.add(Conv2D(64, (3, 3), activation='relu', kernel_initializer='he_uniform'))\n",
        "    model.add(MaxPooling2D((3, 3)))\n",
        "    model.add(Flatten())\n",
        "    model.add(Dense(64, activation='relu', kernel_initializer='he_uniform'))\n",
        "    model.add(Dense(10, activation='softmax'))\n",
        "    # ANOTHER OPTIMIZER (ADAM)\n",
        "    # model.compile(loss=\"categorical_crossentropy\",\n",
        "    #           optimizer=\"adam\",\n",
        "    #           metrics=[\"acc\"])\n",
        "    model.summary()\n",
        "    opt = SGD(learning_rate=0.01, momentum=0.9)\n",
        "    model.compile(optimizer=opt, loss='categorical_crossentropy', metrics=['acc'])\n",
        "\n",
        "    return model\n"
      ]
    },
    {
      "cell_type": "markdown",
      "metadata": {
        "id": "sGxqX7rfcOpF"
      },
      "source": [
        "## 4) diagnostics\n",
        "\n",
        "---\n",
        "* SUMMARIZE DIAGNOSTICS"
      ]
    },
    {
      "cell_type": "code",
      "execution_count": 5,
      "metadata": {
        "id": "_Qj6K5B8cZkJ"
      },
      "outputs": [],
      "source": [
        "def diagnostics(history):\n",
        "\n",
        "\tplt.subplot(2, 1, 1)\n",
        "\tplt.title('Cross Entropy Loss')\n",
        "\tplt.plot(history.history['loss'], color='blue', label='train')\n",
        "\tplt.plot(history.history['val_loss'], color='orange', label='test')\n",
        "\tplt.subplot(2, 1, 2)\n",
        "\tplt.title('Classification Accuracy')\n",
        "\tplt.plot(history.history['acc'], color='blue', label='train')\n",
        "\tplt.plot(history.history['val_acc'], color='orange', label='test')\n",
        "\tplt.show()"
      ]
    },
    {
      "cell_type": "markdown",
      "metadata": {
        "id": "xUiUSP-ucfIL"
      },
      "source": [
        "##5) performance\n",
        "\n",
        "---\n",
        "* SUMMARIZE PERFORMANCE"
      ]
    },
    {
      "cell_type": "code",
      "execution_count": 6,
      "metadata": {
        "id": "voqazZmock_2"
      },
      "outputs": [],
      "source": [
        "def performance(scores):\n",
        "\tprint('Accuracy: mean=%.3f std=%.3f, n=%d' % (np.mean(scores)*100, np.std(scores)*100, len(scores)))\n",
        "\tplt.boxplot(scores)\n",
        "\tplt.show()"
      ]
    },
    {
      "cell_type": "markdown",
      "metadata": {
        "id": "2woQtZ_4cnPM"
      },
      "source": [
        "##6) train\n",
        "---\n",
        "* LOAD DATASED\n",
        "* PREPARE IMAGE - TYPE CONVERSE, NORMALIZE\n",
        "* DEFINE NEURAL NETWORK MODEL\n",
        "* TRAIN NEURAL NETWORK\n",
        "* SAVE MODE"
      ]
    },
    {
      "cell_type": "code",
      "execution_count": 7,
      "metadata": {
        "id": "QFUZHCPKcq1P"
      },
      "outputs": [],
      "source": [
        "def train():\n",
        "    X_train, Y_train, X_test, Y_test = load_dataset()\n",
        "    X_train, X_test = normalize(X_train, X_test)\n",
        "    model = set_model()\n",
        "    history = model.fit(X_train, Y_train, batch_size=128, epochs=20, verbose=1, validation_split=0.2)\n",
        "    loss, acc = model.evaluate(X_test, Y_test)\n",
        "    diagnostics(history)\n",
        "    print(\"Accuracy: {0}, Loss: {1}\".format(acc, loss))\n",
        "    model.save('trained_model_2.h5')"
      ]
    },
    {
      "cell_type": "markdown",
      "metadata": {
        "id": "3GRkYYZIc0VF"
      },
      "source": [
        ""
      ]
    },
    {
      "cell_type": "code",
      "execution_count": 8,
      "metadata": {
        "colab": {
          "base_uri": "https://localhost:8080/",
          "height": 1000
        },
        "id": "xojeYHAOczs0",
        "outputId": "8f56a084-1877-4d89-a25e-1e22e841c0b8"
      },
      "outputs": [
        {
          "output_type": "stream",
          "name": "stdout",
          "text": [
            "Downloading data from https://storage.googleapis.com/tensorflow/tf-keras-datasets/mnist.npz\n",
            "11493376/11490434 [==============================] - 0s 0us/step\n",
            "11501568/11490434 [==============================] - 0s 0us/step\n",
            "Model: \"sequential\"\n",
            "_________________________________________________________________\n",
            " Layer (type)                Output Shape              Param #   \n",
            "=================================================================\n",
            " conv2d (Conv2D)             (None, 26, 26, 32)        320       \n",
            "                                                                 \n",
            " max_pooling2d (MaxPooling2D  (None, 8, 8, 32)         0         \n",
            " )                                                               \n",
            "                                                                 \n",
            " conv2d_1 (Conv2D)           (None, 6, 6, 64)          18496     \n",
            "                                                                 \n",
            " conv2d_2 (Conv2D)           (None, 4, 4, 64)          36928     \n",
            "                                                                 \n",
            " max_pooling2d_1 (MaxPooling  (None, 1, 1, 64)         0         \n",
            " 2D)                                                             \n",
            "                                                                 \n",
            " flatten (Flatten)           (None, 64)                0         \n",
            "                                                                 \n",
            " dense (Dense)               (None, 64)                4160      \n",
            "                                                                 \n",
            " dense_1 (Dense)             (None, 10)                650       \n",
            "                                                                 \n",
            "=================================================================\n",
            "Total params: 60,554\n",
            "Trainable params: 60,554\n",
            "Non-trainable params: 0\n",
            "_________________________________________________________________\n",
            "Epoch 1/20\n",
            "375/375 [==============================] - 14s 6ms/step - loss: 0.3814 - acc: 0.8782 - val_loss: 0.1297 - val_acc: 0.9597\n",
            "Epoch 2/20\n",
            "375/375 [==============================] - 2s 5ms/step - loss: 0.1162 - acc: 0.9640 - val_loss: 0.0872 - val_acc: 0.9737\n",
            "Epoch 3/20\n",
            "375/375 [==============================] - 2s 5ms/step - loss: 0.0809 - acc: 0.9751 - val_loss: 0.0949 - val_acc: 0.9699\n",
            "Epoch 4/20\n",
            "375/375 [==============================] - 2s 5ms/step - loss: 0.0603 - acc: 0.9806 - val_loss: 0.0650 - val_acc: 0.9796\n",
            "Epoch 5/20\n",
            "375/375 [==============================] - 2s 5ms/step - loss: 0.0505 - acc: 0.9840 - val_loss: 0.0700 - val_acc: 0.9783\n",
            "Epoch 6/20\n",
            "375/375 [==============================] - 2s 5ms/step - loss: 0.0437 - acc: 0.9858 - val_loss: 0.0569 - val_acc: 0.9818\n",
            "Epoch 7/20\n",
            "375/375 [==============================] - 2s 5ms/step - loss: 0.0358 - acc: 0.9888 - val_loss: 0.0489 - val_acc: 0.9857\n",
            "Epoch 8/20\n",
            "375/375 [==============================] - 2s 5ms/step - loss: 0.0307 - acc: 0.9906 - val_loss: 0.0566 - val_acc: 0.9832\n",
            "Epoch 9/20\n",
            "375/375 [==============================] - 2s 5ms/step - loss: 0.0272 - acc: 0.9914 - val_loss: 0.0565 - val_acc: 0.9838\n",
            "Epoch 10/20\n",
            "375/375 [==============================] - 2s 5ms/step - loss: 0.0216 - acc: 0.9930 - val_loss: 0.0553 - val_acc: 0.9836\n",
            "Epoch 11/20\n",
            "375/375 [==============================] - 2s 5ms/step - loss: 0.0191 - acc: 0.9940 - val_loss: 0.0524 - val_acc: 0.9857\n",
            "Epoch 12/20\n",
            "375/375 [==============================] - 2s 5ms/step - loss: 0.0158 - acc: 0.9951 - val_loss: 0.0548 - val_acc: 0.9835\n",
            "Epoch 13/20\n",
            "375/375 [==============================] - 2s 5ms/step - loss: 0.0148 - acc: 0.9952 - val_loss: 0.0547 - val_acc: 0.9859\n",
            "Epoch 14/20\n",
            "375/375 [==============================] - 2s 5ms/step - loss: 0.0136 - acc: 0.9957 - val_loss: 0.0569 - val_acc: 0.9848\n",
            "Epoch 15/20\n",
            "375/375 [==============================] - 2s 5ms/step - loss: 0.0117 - acc: 0.9965 - val_loss: 0.0525 - val_acc: 0.9861\n",
            "Epoch 16/20\n",
            "375/375 [==============================] - 2s 5ms/step - loss: 0.0096 - acc: 0.9969 - val_loss: 0.0530 - val_acc: 0.9862\n",
            "Epoch 17/20\n",
            "375/375 [==============================] - 2s 5ms/step - loss: 0.0072 - acc: 0.9981 - val_loss: 0.0546 - val_acc: 0.9863\n",
            "Epoch 18/20\n",
            "375/375 [==============================] - 2s 5ms/step - loss: 0.0074 - acc: 0.9977 - val_loss: 0.0554 - val_acc: 0.9865\n",
            "Epoch 19/20\n",
            "375/375 [==============================] - 2s 6ms/step - loss: 0.0051 - acc: 0.9989 - val_loss: 0.0582 - val_acc: 0.9854\n",
            "Epoch 20/20\n",
            "375/375 [==============================] - 2s 5ms/step - loss: 0.0050 - acc: 0.9986 - val_loss: 0.0560 - val_acc: 0.9862\n",
            "313/313 [==============================] - 1s 3ms/step - loss: 0.0464 - acc: 0.9884\n"
          ]
        },
        {
          "output_type": "display_data",
          "data": {
            "text/plain": [
              "<Figure size 432x288 with 2 Axes>"
            ],
            "image/png": "[encoded data removed]"
          },
          "metadata": {
            "needs_background": "light"
          }
        },
        {
          "output_type": "stream",
          "name": "stdout",
          "text": [
            "Accuracy: 0.9883999824523926, Loss: 0.04641677066683769\n",
            "Model saved into trained_model.h5\n"
          ]
        }
      ],
      "source": [
        "train()\n",
        "\n",
        "print(\"Model saved into trained_model.h5\")"
      ]
    },
    {
      "cell_type": "markdown",
      "metadata": {
        "id": "9irw9zq_c-Vl"
      },
      "source": [
        "#MAIN"
      ]
    },
    {
      "cell_type": "markdown",
      "metadata": {
        "id": "msGJc7s5dglf"
      },
      "source": [
        "##0) import, etc"
      ]
    },
    {
      "cell_type": "code",
      "execution_count": 18,
      "metadata": {
        "id": "tOd13wnodGKj"
      },
      "outputs": [],
      "source": [
        "import matplotlib.pyplot as plt\n",
        "from sklearn.neighbors import NearestNeighbors\n",
        "from tensorflow.keras.datasets import mnist\n",
        "from tensorflow.keras.utils import to_categorical\n",
        "from tensorflow.keras.models import Sequential\n",
        "from tensorflow.keras.layers import Dense\n",
        "from tensorflow.keras.models import load_model\n",
        "from tensorflow.keras.preprocessing.image import load_img\n",
        "from tensorflow.keras.preprocessing.image import img_to_array\n",
        "import cv2 as cv\n",
        "import numpy as np\n",
        "import sys\n",
        "import math\n",
        "import os\n",
        "\n",
        "class bcolors:\n",
        "    HEADER = '\\033[95m'\n",
        "    OKBLUE = '\\033[94m'\n",
        "    OKCYAN = '\\033[96m'\n",
        "    OKGREEN = '\\033[92m'\n",
        "    WARNING = '\\033[93m'\n",
        "    FAIL = '\\033[91m'\n",
        "    ENDC = '\\033[0m'\n",
        "    BOLD = '\\033[1m'\n",
        "    UNDERLINE = '\\033[4m'\n",
        "\n",
        "test_images = list()\n",
        "test_images.append('test_images/0.jpeg')\n",
        "test_images.append('test_images/1.jpeg')\n",
        "test_images.append('test_images/2.jpeg')\n",
        "test_images.append('test_images/3.jpeg')\n",
        "test_images.append('test_images/4.jpeg')\n",
        "test_images.append('test_images/5.jpeg')\n",
        "test_images.append('test_images/6.jpeg')\n",
        "test_images.append('test_images/7.jpeg')\n",
        "test_images.append('test_images/8.jpeg')\n",
        "test_images.append('test_images/9.jpeg')\n",
        "test_images.append('test_images/0_t.jpeg')\n",
        "test_images.append('test_images/9_d.png')\n",
        "test_images.append('test_images/9_t.jpeg')\n",
        "\n",
        "wrong = 0\n",
        "good = 0"
      ]
    },
    {
      "cell_type": "markdown",
      "metadata": {
        "id": "yAgnk0stdkri"
      },
      "source": [
        "##1) find_digit"
      ]
    },
    {
      "cell_type": "code",
      "execution_count": 10,
      "metadata": {
        "id": "hgUVCw4sd_Pj"
      },
      "outputs": [],
      "source": [
        "def find_digit(filename):\n",
        "    for m in filename:\n",
        "        if m.isdigit():\n",
        "            return m"
      ]
    },
    {
      "cell_type": "markdown",
      "metadata": {
        "id": "n2BDhZT4eBtK"
      },
      "source": [
        "##2) evaluate"
      ]
    },
    {
      "cell_type": "code",
      "execution_count": 11,
      "metadata": {
        "id": "MjHoKL0GeHHX"
      },
      "outputs": [],
      "source": [
        "wrong = 0\n",
        "good = 0\n",
        "def evaluate(digit, filename):\n",
        "    expected_number = find_digit(filename)\n",
        "    expected_number = int(expected_number)\n",
        "    predicted_number = digit[0]\n",
        "\n",
        "    if expected_number == predicted_number:\n",
        "        print(bcolors.OKGREEN + \"CORRECT. Expected: {0}, Predicted: {1}\".format(expected_number, predicted_number) + bcolors.ENDC)\n",
        "        global good\n",
        "        good += 1\n",
        "    else:\n",
        "        print(bcolors.FAIL + \"WRONG. Expected: {0}, Predicted: {1}\".format(expected_number, predicted_number) + bcolors.ENDC)\n",
        "        global wrong\n",
        "        wrong += 1"
      ]
    },
    {
      "cell_type": "markdown",
      "metadata": {
        "id": "KB0R_RALeIli"
      },
      "source": [
        "##3) test_all"
      ]
    },
    {
      "cell_type": "code",
      "execution_count": 12,
      "metadata": {
        "colab": {
          "base_uri": "https://localhost:8080/"
        },
        "id": "QDGXv8eQeL0C",
        "outputId": "b8dff41a-5f4a-4129-9206-abf05dc1f963"
      },
      "outputs": [
        {
          "output_type": "stream",
          "name": "stdout",
          "text": [
            "\u001b[91mWRONG. Expected: 0, Predicted: 9\u001b[0m\n",
            "\u001b[91mWRONG. Expected: 1, Predicted: 7\u001b[0m\n",
            "\u001b[92mCORRECT. Expected: 2, Predicted: 2\u001b[0m\n",
            "\u001b[92mCORRECT. Expected: 3, Predicted: 3\u001b[0m\n",
            "WARNING:tensorflow:5 out of the last 5 calls to <function Model.make_predict_function.<locals>.predict_function at 0x7f91f537f0e0> triggered tf.function retracing. Tracing is expensive and the excessive number of tracings could be due to (1) creating @tf.function repeatedly in a loop, (2) passing tensors with different shapes, (3) passing Python objects instead of tensors. For (1), please define your @tf.function outside of the loop. For (2), @tf.function has experimental_relax_shapes=True option that relaxes argument shapes that can avoid unnecessary retracing. For (3), please refer to https://www.tensorflow.org/guide/function#controlling_retracing and https://www.tensorflow.org/api_docs/python/tf/function for  more details.\n",
            "\u001b[91mWRONG. Expected: 4, Predicted: 6\u001b[0m\n",
            "WARNING:tensorflow:6 out of the last 6 calls to <function Model.make_predict_function.<locals>.predict_function at 0x7f920a4b90e0> triggered tf.function retracing. Tracing is expensive and the excessive number of tracings could be due to (1) creating @tf.function repeatedly in a loop, (2) passing tensors with different shapes, (3) passing Python objects instead of tensors. For (1), please define your @tf.function outside of the loop. For (2), @tf.function has experimental_relax_shapes=True option that relaxes argument shapes that can avoid unnecessary retracing. For (3), please refer to https://www.tensorflow.org/guide/function#controlling_retracing and https://www.tensorflow.org/api_docs/python/tf/function for  more details.\n",
            "\u001b[92mCORRECT. Expected: 5, Predicted: 5\u001b[0m\n",
            "\u001b[92mCORRECT. Expected: 6, Predicted: 6\u001b[0m\n",
            "\u001b[92mCORRECT. Expected: 7, Predicted: 7\u001b[0m\n",
            "\u001b[92mCORRECT. Expected: 8, Predicted: 8\u001b[0m\n",
            "\u001b[91mWRONG. Expected: 9, Predicted: 3\u001b[0m\n",
            "\u001b[92mCORRECT. Expected: 0, Predicted: 0\u001b[0m\n",
            "\u001b[91mWRONG. Expected: 9, Predicted: 0\u001b[0m\n",
            "\u001b[92mCORRECT. Expected: 9, Predicted: 9\u001b[0m\n"
          ]
        }
      ],
      "source": [
        "for i in range(len(test_images)):\n",
        "\n",
        "        img = load_img(test_images[i], color_mode=\"grayscale\", target_size=(28, 28))\n",
        "\n",
        "        img = img_to_array(img)\n",
        "\n",
        "        img = img.reshape(1, 28, 28, 1)\n",
        "\n",
        "        img = img.astype('float32')\n",
        "        img = img / 255.0\n",
        "\n",
        "        loaded_model = load_model(\"trained_model_2.h5\")\n",
        "        predict_value = loaded_model.predict(img)\n",
        "        digit = predict_value.argmax(axis=-1)\n",
        "        evaluate(digit, test_images[i])\n",
        "        #print(\"Predicted number: {0}, Num in file: {1}\".format(digit, test_images[i]))"
      ]
    },
    {
      "cell_type": "markdown",
      "metadata": {
        "id": "8_oeeuwseOJp"
      },
      "source": [
        "##4) test_single"
      ]
    },
    {
      "cell_type": "code",
      "execution_count": 19,
      "metadata": {
        "id": "Of8GMpZyeVCA"
      },
      "outputs": [],
      "source": [
        "def test_single():\n",
        "    filename = 'test_images/0_t.jpeg'\n",
        "    img = load_img(filename, color_mode=\"grayscale\", target_size=(28, 28))\n",
        "    plt.imshow(img)\n",
        "    plt.show()\n",
        "\n",
        "    img = img_to_array(img)\n",
        "    img = img.reshape(1, 28, 28, 1)\n",
        "    img = img.astype('float32')\n",
        "    img = img / 255.0\n",
        "    loaded_model = load_model(\"trained_model_2.h5\")\n",
        "    predict_value = loaded_model.predict(img)\n",
        "    digit = predict_value.argmax(axis=-1)\n",
        "    # print(\"Predicted number: {0}\".format(digit))\n",
        "    evaluate(digit, filename)"
      ]
    },
    {
      "cell_type": "code",
      "execution_count": 16,
      "metadata": {
        "id": "WnZVleyefOeS",
        "colab": {
          "base_uri": "https://localhost:8080/"
        },
        "outputId": "f3387838-9d86-4590-9f55-43595f4c4a6d"
      },
      "outputs": [
        {
          "output_type": "stream",
          "name": "stdout",
          "text": [
            "Wrong parameter\n",
            "Number of images: 13\n",
            "Right: 8, Wrong: 5\n",
            "Accuracy : 61.54\n"
          ]
        }
      ],
      "source": [
        "if sys.argv[1] == 'all':\n",
        "    test_all()\n",
        "elif sys.argv[1] == 'single':\n",
        "    test_single()\n",
        "else:\n",
        "    print(\"Wrong parameter\")\n",
        "    exit(42)\n",
        "\n",
        "print(f'Number of images: {len(test_images)}')\n",
        "print(\"Right: {0}, Wrong: {1}\".format(good, wrong))\n",
        "Accuracy = good/len(test_images)*100\n",
        "print(f'Accuracy : {round(Accuracy,2)}')"
      ]
    },
    {
      "cell_type": "markdown",
      "source": [
        "##Changes in perception according to images"
      ],
      "metadata": {
        "id": "s-rQlkq6r91C"
      }
    },
    {
      "cell_type": "code",
      "source": [
        "for currentdir, dirs, files in os.walk(r\"/content/PRETTY\"):\n",
        " \n",
        "    for file in files :\n",
        "    \n",
        "        # print(currentdir+r\"\\\\\"+file)\n",
        "\n",
        "        img_path = currentdir+'/'+file\n",
        "        print(img_path)\n",
        "        if img_path == '/content/Test_IMG/.DS_Store':\n",
        "          print(\"afsdasfd\")\n",
        "        else :\n",
        "          print()\n",
        "          img = cv2.imread(img_path,  cv2.IMREAD_GRAYSCALE) #경로와 이름 잘 맞추기\n",
        "          cv2_imshow(img)\n",
        "          img = cv2.resize(255-img, (28, 28))\n",
        "          img.shape\n",
        "\n",
        "          test_num = img.flatten()/255.0\n",
        "          test_num = test_num.reshape((-1, 28, 28, 1))\n",
        "          test_num.shape\n",
        "\n",
        "          # print('The answer is ', model.predict_classes(test_num))\n",
        "\n",
        "          print('The answer is ', np.argmax(model.predict(test_num), axis=-1))"
      ],
      "metadata": {
        "id": "dbCTwJ7Kfk93"
      },
      "execution_count": 20,
      "outputs": []
    }
  ],
  "metadata": {
    "accelerator": "GPU",
    "colab": {
      "name": "BISSIT_2022",
      "provenance": []
    },
    "gpuClass": "standard",
    "kernelspec": {
      "display_name": "Python 3",
      "name": "python3"
    },
    "language_info": {
      "name": "python"
    }
  },
  "nbformat": 4,
  "nbformat_minor": 0
}